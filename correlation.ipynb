{
 "cells": [
  {
   "cell_type": "code",
   "execution_count": 1,
   "metadata": {},
   "outputs": [
    {
     "data": {
      "text/plain": [
       "'0.23.4'"
      ]
     },
     "execution_count": 1,
     "metadata": {},
     "output_type": "execute_result"
    }
   ],
   "source": [
    "import pandas as pd\n",
    "import numpy as np\n",
    "from itertools import groupby\n",
    "pd.__version__"
   ]
  },
  {
   "cell_type": "code",
   "execution_count": 2,
   "metadata": {},
   "outputs": [
    {
     "data": {
      "text/plain": [
       "['39',\n",
       " ' State-gov',\n",
       " ' 77516',\n",
       " ' Bachelors',\n",
       " ' 13',\n",
       " ' Never-married',\n",
       " ' Adm-clerical',\n",
       " ' Not-in-family',\n",
       " ' White',\n",
       " ' Male',\n",
       " ' 2174',\n",
       " ' 0',\n",
       " ' 40',\n",
       " ' United-States',\n",
       " ' <=50K']"
      ]
     },
     "execution_count": 2,
     "metadata": {},
     "output_type": "execute_result"
    }
   ],
   "source": [
    "df = pd.read_csv(\"adult.data\")\n",
    "list(df.columns.values)"
   ]
  },
  {
   "cell_type": "code",
   "execution_count": 3,
   "metadata": {},
   "outputs": [],
   "source": [
    "total = len(df)"
   ]
  },
  {
   "cell_type": "code",
   "execution_count": 4,
   "metadata": {},
   "outputs": [],
   "source": [
    "def correlation(val1,val2):\n",
    "    \n",
    "    value1=df[val1].unique().tolist()\n",
    "    numberValue1 = len(value1)\n",
    "    value2 = df[val2].unique().tolist()\n",
    "    numberValue2 = len(value2)\n",
    "    n1 = count(numberValue1,val1,value1)\n",
    "    n2 = count(numberValue2,val2,value2)\n",
    "    eij = e(n1,n2,total)\n",
    "    oij = o(n1,n2,value1,value2,val1,val2)\n",
    "    X2 = x2(eij,oij)\n",
    "    return(X2)\n",
    "    "
   ]
  },
  {
   "cell_type": "code",
   "execution_count": null,
   "metadata": {
    "scrolled": true
   },
   "outputs": [],
   "source": []
  },
  {
   "cell_type": "code",
   "execution_count": 5,
   "metadata": {},
   "outputs": [],
   "source": [
    "#Shemordan inke chanta az har value unique darim\n",
    "def count(numberVal,val,value):\n",
    "    c = np.zeros(numberVal, dtype = int)\n",
    "    for i in range(len(value)):\n",
    "        for elem in df[val]:\n",
    "            if elem == value[i]:\n",
    "                c[i] +=1\n",
    "    return c\n"
   ]
  },
  {
   "cell_type": "code",
   "execution_count": 6,
   "metadata": {},
   "outputs": [],
   "source": [
    "def e(n1,n2,total):\n",
    "    e = np.zeros([len(n1),len(n2)],dtype = int)\n",
    "    for i in range(len(n1)):\n",
    "         for j in range(len(n2)):\n",
    "                e[i][j] = n1[i]*n2[j]\n",
    "    return e/total\n",
    "                "
   ]
  },
  {
   "cell_type": "code",
   "execution_count": 7,
   "metadata": {},
   "outputs": [],
   "source": [
    "def o(n1,n2,value1,value2,val1,val2):\n",
    "    o = np.zeros([len(n1),len(n2)],dtype = object)\n",
    "    for i in range(len(n1)):\n",
    "        for j in range(len(n2)):\n",
    "                o[i][j] = len(df[(df[val1]==value1[i]) & (df[val2]==value2[j])])\n",
    "                \n",
    "    return o"
   ]
  },
  {
   "cell_type": "code",
   "execution_count": 8,
   "metadata": {},
   "outputs": [],
   "source": [
    "def x2(eij,oij):\n",
    "    x2 = 0\n",
    "    for i in range(len(eij)):\n",
    "        for j in range(len(eij[i])):\n",
    "            x2 += ((oij[i][j]-eij[i][j])**2)/eij[i][j]\n",
    "    return x2"
   ]
  },
  {
   "cell_type": "code",
   "execution_count": 9,
   "metadata": {},
   "outputs": [
    {
     "data": {
      "text/plain": [
       "13715.016222582339"
      ]
     },
     "execution_count": 9,
     "metadata": {},
     "output_type": "execute_result"
    }
   ],
   "source": [
    "correlation(' Male',' Not-in-family')"
   ]
  }
 ],
 "metadata": {
  "kernelspec": {
   "display_name": "Python 3",
   "language": "python",
   "name": "python3"
  },
  "language_info": {
   "codemirror_mode": {
    "name": "ipython",
    "version": 3
   },
   "file_extension": ".py",
   "mimetype": "text/x-python",
   "name": "python",
   "nbconvert_exporter": "python",
   "pygments_lexer": "ipython3",
   "version": "3.5.6"
  }
 },
 "nbformat": 4,
 "nbformat_minor": 2
}
